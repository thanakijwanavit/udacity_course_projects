{
 "cells": [
  {
   "cell_type": "markdown",
   "metadata": {},
   "source": [
    "# Developing an AI application\n",
    "\n",
    "Going forward, AI algorithms will be incorporated into more and more everyday applications. For example, you might want to include an image classifier in a smart phone app. To do this, you'd use a deep learning model trained on hundreds of thousands of images as part of the overall application architecture. A large part of software development in the future will be using these types of models as common parts of applications. \n",
    "\n",
    "In this project, you'll train an image classifier to recognize different species of flowers. You can imagine using something like this in a phone app that tells you the name of the flower your camera is looking at. In practice you'd train this classifier, then export it for use in your application. We'll be using [this dataset](http://www.robots.ox.ac.uk/~vgg/data/flowers/102/index.html) of 102 flower categories, you can see a few examples below. \n",
    "\n",
    "<img src='assets/Flowers.png' width=500px>\n",
    "\n",
    "The project is broken down into multiple steps:\n",
    "\n",
    "* Load and preprocess the image dataset\n",
    "* Train the image classifier on your dataset\n",
    "* Use the trained classifier to predict image content\n",
    "\n",
    "We'll lead you through each part which you'll implement in Python.\n",
    "\n",
    "When you've completed this project, you'll have an application that can be trained on any set of labeled images. Here your network will be learning about flowers and end up as a command line application. But, what you do with your new skills depends on your imagination and effort in building a dataset. For example, imagine an app where you take a picture of a car, it tells you what the make and model is, then looks up information about it. Go build your own dataset and make something new.\n",
    "\n",
    "First up is importing the packages you'll need. It's good practice to keep all the imports at the beginning of your code. As you work through this notebook and find you need to import a package, make sure to add the import up here.\n",
    "\n",
    "Please make sure if you are running this notebook in the workspace that you have chosen GPU rather than CPU mode."
   ]
  },
  {
   "cell_type": "code",
   "execution_count": 1,
   "metadata": {},
   "outputs": [
    {
     "name": "stdout",
     "output_type": "stream",
     "text": [
      "0.4.0\n"
     ]
    }
   ],
   "source": [
    "# Imports here\n",
    "import numpy as np\n",
    "from torchvision import datasets,transforms\n",
    "import torch\n",
    "import os\n",
    "import matplotlib.pyplot as plt\n",
    "import matplotlib.image as mpimg\n",
    "import pylab\n",
    "from PIL import Image\n",
    "from sklearn import preprocessing\n",
    "from PIL import Image, ImageOps\n",
    "from torch import nn\n",
    "from torch import optim\n",
    "import torch.nn.functional as F\n",
    "import torchvision\n",
    "import json\n",
    "import seaborn as sb\n",
    "import matplotlib.pyplot as plt\n",
    "import pandas as pd\n",
    "from collections import OrderedDict\n",
    "import time\n",
    "import copy\n",
    "import operator\n",
    "print(torch.__version__)\n",
    "%matplotlib inline"
   ]
  },
  {
   "cell_type": "markdown",
   "metadata": {},
   "source": [
    "## Load the data\n",
    "\n",
    "Here you'll use `torchvision` to load the data ([documentation](http://pytorch.org/docs/0.3.0/torchvision/index.html)). The data should be included alongside this notebook, otherwise you can [download it here](https://s3.amazonaws.com/content.udacity-data.com/nd089/flower_data.tar.gz). The dataset is split into three parts, training, validation, and testing. For the training, you'll want to apply transformations such as random scaling, cropping, and flipping. This will help the network generalize leading to better performance. You'll also need to make sure the input data is resized to 224x224 pixels as required by the pre-trained networks.\n",
    "\n",
    "The validation and testing sets are used to measure the model's performance on data it hasn't seen yet. For this you don't want any scaling or rotation transformations, but you'll need to resize then crop the images to the appropriate size.\n",
    "\n",
    "The pre-trained networks you'll use were trained on the ImageNet dataset where each color channel was normalized separately. For all three sets you'll need to normalize the means and standard deviations of the images to what the network expects. For the means, it's `[0.485, 0.456, 0.406]` and for the standard deviations `[0.229, 0.224, 0.225]`, calculated from the ImageNet images.  These values will shift each color channel to be centered at 0 and range from -1 to 1.\n",
    " "
   ]
  },
  {
   "cell_type": "code",
   "execution_count": 2,
   "metadata": {},
   "outputs": [],
   "source": [
    "data_dir = 'flowers'\n",
    "train_dir = data_dir + '/train'\n",
    "valid_dir = data_dir + '/valid'\n",
    "test_dir = data_dir + '/test'"
   ]
  },
  {
   "cell_type": "code",
   "execution_count": 3,
   "metadata": {},
   "outputs": [
    {
     "data": {
      "text/plain": [
       "\"\\ndata_transforms = {\\n    'train': transforms.Compose([\\n        transforms.RandomRotation(30),\\n        transforms.RandomResizedCrop(224),\\n        transforms.RandomHorizontalFlip(),\\n        transforms.ToTensor(),\\n        transforms.Normalize([0.485, 0.456, 0.406], \\n                             [0.229, 0.224, 0.225])\\n    ]),\\n    'valid': transforms.Compose([\\n        transforms.Resize(256),\\n        transforms.CenterCrop(224),\\n        transforms.ToTensor(),\\n        transforms.Normalize([0.485, 0.456, 0.406], \\n                             [0.229, 0.224, 0.225])\\n    ]),\\n    'test': transforms.Compose([\\n        transforms.Resize(256),\\n        transforms.CenterCrop(224),\\n        transforms.ToTensor(),\\n        transforms.Normalize([0.485, 0.456, 0.406], \\n                             [0.229, 0.224, 0.225])\\n    ]),\\n}\\n\\ndirs = {'train': train_dir, \\n        'valid': valid_dir, \\n        'test' : test_dir}\\nimage_datasets = {x: datasets.ImageFolder(dirs[x],   transform=data_transforms[x]) for x in ['train', 'valid', 'test']}\\ndataloaders = {x: torch.utils.data.DataLoader(image_datasets[x], batch_size=64, shuffle=True) for x in ['train', 'valid', 'test']}\\ndataset_sizes = {x: len(image_datasets[x])for x in ['train', 'valid', 'test']}\\nclass_names = image_datasets['train'].classes\\n\\nprint(dataloaders)\""
      ]
     },
     "execution_count": 3,
     "metadata": {},
     "output_type": "execute_result"
    }
   ],
   "source": [
    "# TODO: Define your transforms for the training, validation, and testing sets\n",
    "'''\n",
    "data_transforms = {\n",
    "    'train': transforms.Compose([\n",
    "        transforms.RandomRotation(30),\n",
    "        transforms.RandomResizedCrop(224),\n",
    "        transforms.RandomHorizontalFlip(),\n",
    "        transforms.ToTensor(),\n",
    "        transforms.Normalize([0.485, 0.456, 0.406], \n",
    "                             [0.229, 0.224, 0.225])\n",
    "    ]),\n",
    "    'valid': transforms.Compose([\n",
    "        transforms.Resize(256),\n",
    "        transforms.CenterCrop(224),\n",
    "        transforms.ToTensor(),\n",
    "        transforms.Normalize([0.485, 0.456, 0.406], \n",
    "                             [0.229, 0.224, 0.225])\n",
    "    ]),\n",
    "    'test': transforms.Compose([\n",
    "        transforms.Resize(256),\n",
    "        transforms.CenterCrop(224),\n",
    "        transforms.ToTensor(),\n",
    "        transforms.Normalize([0.485, 0.456, 0.406], \n",
    "                             [0.229, 0.224, 0.225])\n",
    "    ]),\n",
    "}\n",
    "\n",
    "dirs = {'train': train_dir, \n",
    "        'valid': valid_dir, \n",
    "        'test' : test_dir}\n",
    "image_datasets = {x: datasets.ImageFolder(dirs[x],   transform=data_transforms[x]) for x in ['train', 'valid', 'test']}\n",
    "dataloaders = {x: torch.utils.data.DataLoader(image_datasets[x], batch_size=64, shuffle=True) for x in ['train', 'valid', 'test']}\n",
    "dataset_sizes = {x: len(image_datasets[x])for x in ['train', 'valid', 'test']}\n",
    "class_names = image_datasets['train'].classes\n",
    "\n",
    "print(dataloaders)'''"
   ]
  },
  {
   "cell_type": "code",
   "execution_count": 4,
   "metadata": {},
   "outputs": [],
   "source": [
    "# TODO: Define your transforms for the training, validation, and testing sets\n",
    "train_transforms = transforms.Compose([transforms.RandomRotation(30),\n",
    "                                       transforms.RandomResizedCrop(224),\n",
    "                                       transforms.RandomHorizontalFlip(),\n",
    "                                       transforms.ToTensor(),\n",
    "                                       transforms.Normalize([0.485, 0.456, 0.406], \n",
    "                                                            [0.229, 0.224, 0.225])])\n",
    "\n",
    "verify_transforms = transforms.Compose([transforms.Resize(256),\n",
    "                                      transforms.CenterCrop(224),\n",
    "                                      transforms.ToTensor(),\n",
    "                                      transforms.Normalize([0.485, 0.456, 0.406], \n",
    "                                                           [0.229, 0.224, 0.225])])\n",
    "\n",
    "# TODO: Load the datasets with ImageFolder\n",
    "train_datasets = datasets.ImageFolder(train_dir, transform=train_transforms)\n",
    "valid_datasets = datasets.ImageFolder(valid_dir, transform=verify_transforms)\n",
    "test_datasets = datasets.ImageFolder(test_dir, transform=verify_transforms)\n",
    "\n",
    "\n",
    "# TODO: Using the image datasets and the trainforms, define the dataloaders\n",
    "trainloader = torch.utils.data.DataLoader(train_datasets, batch_size=64, shuffle=True)\n",
    "validloader = torch.utils.data.DataLoader(valid_datasets, batch_size=32)\n",
    "testloader = torch.utils.data.DataLoader(test_datasets, batch_size=32)\n",
    "\n",
    "# See some examples\n",
    "# print(train_datasets.samples) \n",
    "# print(trainloader.sampler.data_source.samples[5000])"
   ]
  },
  {
   "cell_type": "code",
   "execution_count": 5,
   "metadata": {},
   "outputs": [
    {
     "data": {
      "text/plain": [
       "\"\\nimages, labels = next(iter(testloader))\\ndef show(img):\\n    npimg = img.numpy()\\n    plt.imshow(np.transpose(npimg, (1,2,0)), interpolation='nearest')\\nprint(images[0].shape)\\nprint((images[0]+1)/2)\\n\\nshow((images[0]+1)/2)\""
      ]
     },
     "execution_count": 5,
     "metadata": {},
     "output_type": "execute_result"
    }
   ],
   "source": [
    "# Run this to test your data loader\n",
    "'''\n",
    "images, labels = next(iter(testloader))\n",
    "def show(img):\n",
    "    npimg = img.numpy()\n",
    "    plt.imshow(np.transpose(npimg, (1,2,0)), interpolation='nearest')\n",
    "print(images[0].shape)\n",
    "print((images[0]+1)/2)\n",
    "\n",
    "show((images[0]+1)/2)'''\n"
   ]
  },
  {
   "cell_type": "markdown",
   "metadata": {},
   "source": [
    "### Label mapping\n",
    "\n",
    "You'll also need to load in a mapping from category label to category name. You can find this in the file `cat_to_name.json`. It's a JSON object which you can read in with the [`json` module](https://docs.python.org/2/library/json.html). This will give you a dictionary mapping the integer encoded categories to the actual names of the flowers."
   ]
  },
  {
   "cell_type": "code",
   "execution_count": 13,
   "metadata": {},
   "outputs": [],
   "source": [
    "with open('cat_to_name.json', 'r') as f:\n",
    "    cat_to_name = json.load(f)\n",
    "newdict={int(i):j for i,j in cat_to_name.items()}\n",
    "#print(newdict.keys())\n",
    "\n",
    "\n",
    "sorted_newdict = sorted(newdict.items(), key=operator.itemgetter(0))\n",
    "#print(sorted_newdict)\n",
    "#for key, value in sorted(cat_to_name.iteritems(), key = lambda(k,v): (v,k)): \n",
    "#    print \"%s: %s\" % (key, value)"
   ]
  },
  {
   "cell_type": "markdown",
   "metadata": {},
   "source": [
    "# Building and training the classifier\n",
    "\n",
    "Now that the data is ready, it's time to build and train the classifier. As usual, you should use one of the pretrained models from `torchvision.models` to get the image features. Build and train a new feed-forward classifier using those features.\n",
    "\n",
    "We're going to leave this part up to you. Refer to [the rubric](https://review.udacity.com/#!/rubrics/1663/view) for guidance on successfully completing this section. Things you'll need to do:\n",
    "\n",
    "* Load a [pre-trained network](http://pytorch.org/docs/master/torchvision/models.html) (If you need a starting point, the VGG networks work great and are straightforward to use)\n",
    "* Define a new, untrained feed-forward network as a classifier, using ReLU activations and dropout\n",
    "* Train the classifier layers using backpropagation using the pre-trained network to get the features\n",
    "* Track the loss and accuracy on the validation set to determine the best hyperparameters\n",
    "\n",
    "We've left a cell open for you below, but use as many as you need. Our advice is to break the problem up into smaller parts you can run separately. Check that each part is doing what you expect, then move on to the next. You'll likely find that as you work through each part, you'll need to go back and modify your previous code. This is totally normal!\n",
    "\n",
    "When training make sure you're updating only the weights of the feed-forward network. You should be able to get the validation accuracy above 70% if you build everything right. Make sure to try different hyperparameters (learning rate, units in the classifier, epochs, etc) to find the best model. Save those hyperparameters to use as default values in the next part of the project.\n",
    "\n",
    "One last important tip if you're using the workspace to run your code: To avoid having your workspace disconnect during the long-running tasks in this notebook, please read in the earlier page in this lesson called Intro to GPU Workspaces about Keeping Your Session Active. You'll want to include code from the workspace_utils.py module."
   ]
  },
  {
   "cell_type": "code",
   "execution_count": 7,
   "metadata": {},
   "outputs": [
    {
     "name": "stderr",
     "output_type": "stream",
     "text": [
      "Downloading: \"https://download.pytorch.org/models/vgg16-397923af.pth\" to /root/.torch/models/vgg16-397923af.pth\n",
      "100%|██████████| 553433881/553433881 [00:05<00:00, 99611497.72it/s] \n"
     ]
    },
    {
     "data": {
      "text/plain": [
       "VGG(\n",
       "  (features): Sequential(\n",
       "    (0): Conv2d(3, 64, kernel_size=(3, 3), stride=(1, 1), padding=(1, 1))\n",
       "    (1): ReLU(inplace)\n",
       "    (2): Conv2d(64, 64, kernel_size=(3, 3), stride=(1, 1), padding=(1, 1))\n",
       "    (3): ReLU(inplace)\n",
       "    (4): MaxPool2d(kernel_size=2, stride=2, padding=0, dilation=1, ceil_mode=False)\n",
       "    (5): Conv2d(64, 128, kernel_size=(3, 3), stride=(1, 1), padding=(1, 1))\n",
       "    (6): ReLU(inplace)\n",
       "    (7): Conv2d(128, 128, kernel_size=(3, 3), stride=(1, 1), padding=(1, 1))\n",
       "    (8): ReLU(inplace)\n",
       "    (9): MaxPool2d(kernel_size=2, stride=2, padding=0, dilation=1, ceil_mode=False)\n",
       "    (10): Conv2d(128, 256, kernel_size=(3, 3), stride=(1, 1), padding=(1, 1))\n",
       "    (11): ReLU(inplace)\n",
       "    (12): Conv2d(256, 256, kernel_size=(3, 3), stride=(1, 1), padding=(1, 1))\n",
       "    (13): ReLU(inplace)\n",
       "    (14): Conv2d(256, 256, kernel_size=(3, 3), stride=(1, 1), padding=(1, 1))\n",
       "    (15): ReLU(inplace)\n",
       "    (16): MaxPool2d(kernel_size=2, stride=2, padding=0, dilation=1, ceil_mode=False)\n",
       "    (17): Conv2d(256, 512, kernel_size=(3, 3), stride=(1, 1), padding=(1, 1))\n",
       "    (18): ReLU(inplace)\n",
       "    (19): Conv2d(512, 512, kernel_size=(3, 3), stride=(1, 1), padding=(1, 1))\n",
       "    (20): ReLU(inplace)\n",
       "    (21): Conv2d(512, 512, kernel_size=(3, 3), stride=(1, 1), padding=(1, 1))\n",
       "    (22): ReLU(inplace)\n",
       "    (23): MaxPool2d(kernel_size=2, stride=2, padding=0, dilation=1, ceil_mode=False)\n",
       "    (24): Conv2d(512, 512, kernel_size=(3, 3), stride=(1, 1), padding=(1, 1))\n",
       "    (25): ReLU(inplace)\n",
       "    (26): Conv2d(512, 512, kernel_size=(3, 3), stride=(1, 1), padding=(1, 1))\n",
       "    (27): ReLU(inplace)\n",
       "    (28): Conv2d(512, 512, kernel_size=(3, 3), stride=(1, 1), padding=(1, 1))\n",
       "    (29): ReLU(inplace)\n",
       "    (30): MaxPool2d(kernel_size=2, stride=2, padding=0, dilation=1, ceil_mode=False)\n",
       "  )\n",
       "  (classifier): Sequential(\n",
       "    (fc1): Linear(in_features=25088, out_features=4096, bias=True)\n",
       "    (relu1): ReLU()\n",
       "    (drop1): Dropout(p=0.1)\n",
       "    (fc2): Linear(in_features=4096, out_features=1024, bias=True)\n",
       "    (drop2): Dropout(p=0.1)\n",
       "    (fc3): Linear(in_features=1024, out_features=256, bias=True)\n",
       "    (drop3): Dropout(p=0.1)\n",
       "    (fc4): Linear(in_features=256, out_features=102, bias=True)\n",
       "    (output): LogSoftmax()\n",
       "  )\n",
       ")"
      ]
     },
     "execution_count": 7,
     "metadata": {},
     "output_type": "execute_result"
    }
   ],
   "source": [
    "# TODO: Build and train your network\n",
    "model = torchvision.models.vgg16(pretrained=True)\n",
    "\n",
    "dropout=0.1\n",
    "\n",
    "\n",
    "\n",
    "\n",
    "# Freeze parameters so we don't backprop through them\n",
    "for param in model.parameters():\n",
    "    param.requires_grad = False\n",
    "\n",
    "\n",
    "classifier = nn.Sequential(OrderedDict([\n",
    "                          ('fc1', nn.Linear(25088, 4096)),\n",
    "                          ('relu1', nn.ReLU()),\n",
    "                          ('drop1',nn.Dropout(p=dropout)),\n",
    "                          ('fc2', nn.Linear(4096, 1024)),\n",
    "                          ('drop2',nn.Dropout(p=dropout)),\n",
    "                          ('fc3', nn.Linear(1024, 256)),\n",
    "                          ('drop3',nn.Dropout(p=dropout)),\n",
    "                          ('fc4', nn.Linear(256, 102)),\n",
    "                          ('output', nn.LogSoftmax(dim=1))\n",
    "                          ]))\n",
    "    \n",
    "model.classifier = classifier\n",
    "model"
   ]
  },
  {
   "cell_type": "code",
   "execution_count": 8,
   "metadata": {},
   "outputs": [],
   "source": [
    "#define training var\n",
    "\n",
    "learning_rate=0.001\n",
    "criterion = nn.NLLLoss()\n",
    "optimizer = optim.Adam(model.classifier.parameters(), lr=learning_rate)\n",
    "scheduler = optim.lr_scheduler.StepLR(optimizer, step_size=4, gamma=0.1)\n",
    "epochs = 25\n",
    "print_every=50\n"
   ]
  },
  {
   "cell_type": "code",
   "execution_count": 9,
   "metadata": {},
   "outputs": [],
   "source": [
    "# method for validation\n",
    "def validation(model, validloader, criterion):\n",
    "    valid_loss = 0\n",
    "    accuracy = 0\n",
    "    for images, labels in validloader:\n",
    "        \n",
    "        images, labels = images.to('cuda'), labels.to('cuda')\n",
    "\n",
    "        output = model.forward(images)\n",
    "        valid_loss += criterion(output, labels).item()\n",
    "\n",
    "        ps = torch.exp(output)\n",
    "        equality = (labels.data == ps.max(dim=1)[1])\n",
    "        accuracy += equality.type(torch.FloatTensor).mean()\n",
    "    \n",
    "    return valid_loss, accuracy\n"
   ]
  },
  {
   "cell_type": "code",
   "execution_count": 10,
   "metadata": {},
   "outputs": [
    {
     "name": "stdout",
     "output_type": "stream",
     "text": [
      "Epoch: 1/25...  Train Loss: 3.4704 Validation Loss: 1.6136 Validation Accuracy: 0.5597\n",
      "Epoch: 1/25...  Train Loss: 1.7920 Validation Loss: 1.1357 Validation Accuracy: 0.6815\n",
      "Epoch: 2/25...  Train Loss: 1.4015 Validation Loss: 0.9283 Validation Accuracy: 0.7433\n",
      "Epoch: 2/25...  Train Loss: 1.2783 Validation Loss: 0.8579 Validation Accuracy: 0.7867\n",
      "Epoch: 3/25...  Train Loss: 1.0612 Validation Loss: 0.8036 Validation Accuracy: 0.7833\n",
      "Epoch: 3/25...  Train Loss: 1.0931 Validation Loss: 0.7782 Validation Accuracy: 0.8080\n",
      "Epoch: 4/25...  Train Loss: 0.9627 Validation Loss: 0.7476 Validation Accuracy: 0.7993\n",
      "Epoch: 4/25...  Train Loss: 0.9957 Validation Loss: 0.7118 Validation Accuracy: 0.7989\n",
      "Epoch: 5/25...  Train Loss: 0.8430 Validation Loss: 0.6514 Validation Accuracy: 0.8356\n",
      "Epoch: 5/25...  Train Loss: 0.9388 Validation Loss: 0.6962 Validation Accuracy: 0.8311\n",
      "Epoch: 6/25...  Train Loss: 0.7226 Validation Loss: 0.7241 Validation Accuracy: 0.8320\n",
      "Epoch: 6/25...  Train Loss: 0.9894 Validation Loss: 0.6832 Validation Accuracy: 0.8299\n",
      "Epoch: 7/25...  Train Loss: 0.6428 Validation Loss: 0.7513 Validation Accuracy: 0.8269\n",
      "Epoch: 7/25...  Train Loss: 0.8894 Validation Loss: 0.6328 Validation Accuracy: 0.8534\n",
      "Epoch: 8/25...  Train Loss: 0.5743 Validation Loss: 0.6442 Validation Accuracy: 0.8524\n",
      "Epoch: 8/25...  Train Loss: 0.8121 Validation Loss: 0.6657 Validation Accuracy: 0.8401\n",
      "Epoch: 9/25...  Train Loss: 0.4895 Validation Loss: 0.6898 Validation Accuracy: 0.8522\n",
      "Epoch: 9/25...  Train Loss: 0.8677 Validation Loss: 0.6241 Validation Accuracy: 0.8570\n",
      "Epoch: 10/25...  Train Loss: 0.4221 Validation Loss: 0.6334 Validation Accuracy: 0.8594\n",
      "Epoch: 10/25...  Train Loss: 0.7413 Validation Loss: 0.6260 Validation Accuracy: 0.8594\n",
      "Epoch: 11/25...  Train Loss: 0.3652 Validation Loss: 0.6094 Validation Accuracy: 0.8558\n",
      "Epoch: 11/25...  Train Loss: 0.7605 Validation Loss: 0.6371 Validation Accuracy: 0.8594\n",
      "Epoch: 12/25...  Train Loss: 0.3176 Validation Loss: 0.5981 Validation Accuracy: 0.8762\n",
      "Epoch: 12/25...  Train Loss: 0.7298 Validation Loss: 0.5999 Validation Accuracy: 0.8717\n",
      "Epoch: 13/25...  Train Loss: 0.2382 Validation Loss: 0.6444 Validation Accuracy: 0.8630\n",
      "Epoch: 13/25...  Train Loss: 0.7301 Validation Loss: 0.6160 Validation Accuracy: 0.8632\n",
      "Epoch: 14/25...  Train Loss: 0.2121 Validation Loss: 0.6682 Validation Accuracy: 0.8608\n",
      "Epoch: 14/25...  Train Loss: 0.6673 Validation Loss: 0.5818 Validation Accuracy: 0.8572\n",
      "Epoch: 15/25...  Train Loss: 0.1347 Validation Loss: 0.8054 Validation Accuracy: 0.8289\n",
      "Epoch: 15/25...  Train Loss: 0.6993 Validation Loss: 0.6850 Validation Accuracy: 0.8618\n",
      "Epoch: 16/25...  Train Loss: 0.0852 Validation Loss: 0.5514 Validation Accuracy: 0.8777\n",
      "Epoch: 16/25...  Train Loss: 0.7002 Validation Loss: 0.5744 Validation Accuracy: 0.8714\n",
      "Epoch: 17/25...  Train Loss: 0.0319 Validation Loss: 0.5606 Validation Accuracy: 0.8714\n",
      "Epoch: 17/25...  Train Loss: 0.6523 Validation Loss: 0.5552 Validation Accuracy: 0.8810\n",
      "Epoch: 17/25...  Train Loss: 0.6943 Validation Loss: 0.5560 Validation Accuracy: 0.8750\n",
      "Epoch: 18/25...  Train Loss: 0.8554 Validation Loss: 0.5549 Validation Accuracy: 0.8762\n",
      "Epoch: 18/25...  Train Loss: 0.6573 Validation Loss: 0.5800 Validation Accuracy: 0.8750\n",
      "Epoch: 19/25...  Train Loss: 0.7796 Validation Loss: 0.5478 Validation Accuracy: 0.8846\n",
      "Epoch: 19/25...  Train Loss: 0.6634 Validation Loss: 0.5452 Validation Accuracy: 0.8798\n",
      "Epoch: 20/25...  Train Loss: 0.7150 Validation Loss: 0.6580 Validation Accuracy: 0.8647\n",
      "Epoch: 20/25...  Train Loss: 0.7033 Validation Loss: 0.5109 Validation Accuracy: 0.8954\n",
      "Epoch: 21/25...  Train Loss: 0.6307 Validation Loss: 0.6406 Validation Accuracy: 0.8620\n",
      "Epoch: 21/25...  Train Loss: 0.7194 Validation Loss: 0.5311 Validation Accuracy: 0.8834\n",
      "Epoch: 22/25...  Train Loss: 0.5668 Validation Loss: 0.4633 Validation Accuracy: 0.9014\n",
      "Epoch: 22/25...  Train Loss: 0.6722 Validation Loss: 0.4841 Validation Accuracy: 0.8933\n",
      "Epoch: 23/25...  Train Loss: 0.5137 Validation Loss: 0.5288 Validation Accuracy: 0.8966\n",
      "Epoch: 23/25...  Train Loss: 0.6738 Validation Loss: 0.4867 Validation Accuracy: 0.8858\n",
      "Epoch: 24/25...  Train Loss: 0.5655 Validation Loss: 0.5644 Validation Accuracy: 0.8786\n",
      "Epoch: 24/25...  Train Loss: 0.6332 Validation Loss: 0.4839 Validation Accuracy: 0.9041\n",
      "Epoch: 25/25...  Train Loss: 0.3954 Validation Loss: 0.5633 Validation Accuracy: 0.8858\n",
      "Epoch: 25/25...  Train Loss: 0.5724 Validation Loss: 0.5791 Validation Accuracy: 0.8966\n"
     ]
    }
   ],
   "source": [
    "## Train the network\n",
    "steps=0\n",
    "model.to('cuda')\n",
    "for e in range(epochs):\n",
    "    running_loss = 0\n",
    "    model.train()\n",
    "    for images, labels in trainloader:\n",
    "        steps += 1\n",
    "        \n",
    "        images, labels = images.to('cuda'), labels.to('cuda')\n",
    "        \n",
    "        optimizer.zero_grad()\n",
    "        \n",
    "        # Forward and backward passes \n",
    "        outputs = model.forward(images)\n",
    "        loss = criterion(outputs, labels)\n",
    "        loss.backward()\n",
    "        optimizer.step()\n",
    "        \n",
    "        running_loss += loss.item()\n",
    "        \n",
    "        if steps % print_every == 0:\n",
    "            # change nn to eval mode for inference\n",
    "            model.eval()\n",
    "            \n",
    "            # turn off gradients for validation\n",
    "            with torch.no_grad():\n",
    "                valid_loss, valid_accuracy = validation(model, validloader, criterion)\n",
    "            \n",
    "            print(\"Epoch: {}/{}... \".format(e+1, epochs),\n",
    "                  \"Train Loss: {:.4f}\".format(running_loss/print_every),\n",
    "                  \"Validation Loss: {:.4f}\".format(valid_loss/len(validloader)),\n",
    "                  \"Validation Accuracy: {:.4f}\".format(valid_accuracy/len(validloader)))\n",
    "            \n",
    "            running_loss = 0"
   ]
  },
  {
   "cell_type": "code",
   "execution_count": 11,
   "metadata": {},
   "outputs": [
    {
     "data": {
      "text/plain": [
       "'\\nfor device in [\\'cpu\\', \\'cuda\\']:\\n\\n    \\n\\n    model.to(device)\\n\\n    for ii, (inputs, labels) in enumerate(trainloader):\\n\\n        # Move input and label tensors to the GPU\\n        inputs, labels = inputs.to(device), labels.to(device)\\n\\n        start = time.time()\\n\\n        outputs = model.forward(inputs)\\n        loss = criterion(outputs, labels)\\n        loss.backward()\\n        optimizer.step()\\n\\n        if ii==3:\\n            break\\n        \\n    print(f\"Device = {device}; Time per batch: {(time.time() - start)/3:.3f} seconds\")\\n'"
      ]
     },
     "execution_count": 11,
     "metadata": {},
     "output_type": "execute_result"
    }
   ],
   "source": [
    "'''\n",
    "for device in ['cpu', 'cuda']:\n",
    "\n",
    "    \n",
    "\n",
    "    model.to(device)\n",
    "\n",
    "    for ii, (inputs, labels) in enumerate(trainloader):\n",
    "\n",
    "        # Move input and label tensors to the GPU\n",
    "        inputs, labels = inputs.to(device), labels.to(device)\n",
    "\n",
    "        start = time.time()\n",
    "\n",
    "        outputs = model.forward(inputs)\n",
    "        loss = criterion(outputs, labels)\n",
    "        loss.backward()\n",
    "        optimizer.step()\n",
    "\n",
    "        if ii==3:\n",
    "            break\n",
    "        \n",
    "    print(f\"Device = {device}; Time per batch: {(time.time() - start)/3:.3f} seconds\")\n",
    "'''"
   ]
  },
  {
   "cell_type": "markdown",
   "metadata": {},
   "source": [
    "def do_deep_learning(model, trainloader, epochs, print_every, criterion, optimizer, device='cpu'):\n",
    "    epochs = epochs\n",
    "    print_every = print_every\n",
    "    steps = 0\n",
    "\n",
    "    # change to cuda\n",
    "    model.to('cuda')\n",
    "\n",
    "    for e in range(epochs):\n",
    "        running_loss = 0\n",
    "        for ii, (inputs, labels) in enumerate(trainloader):\n",
    "            steps += 1\n",
    "\n",
    "            inputs, labels = inputs.to('cuda'), labels.to('cuda')\n",
    "\n",
    "            optimizer.zero_grad()\n",
    "\n",
    "            # Forward and backward passes\n",
    "            outputs = model.forward(inputs)\n",
    "            loss = criterion(outputs, labels)\n",
    "            loss.backward()\n",
    "            optimizer.step()\n",
    "\n",
    "            running_loss += loss.item()\n",
    "\n",
    "            if steps % print_every == 0:\n",
    "                print(\"Epoch: {}/{}... \".format(e+1, epochs),\n",
    "                      \"Loss: {:.4f}\".format(running_loss/print_every))\n",
    "\n",
    "                running_loss = 0\n",
    " \n"
   ]
  },
  {
   "cell_type": "code",
   "execution_count": 12,
   "metadata": {},
   "outputs": [],
   "source": [
    "#do_deep_learning(model, trainloader, 3, 40, criterion, optimizer, 'gpu')"
   ]
  },
  {
   "cell_type": "code",
   "execution_count": 13,
   "metadata": {},
   "outputs": [
    {
     "data": {
      "text/plain": [
       "\"def train_model(model, criteria, optimizer, scheduler,    \\n                                      num_epochs=25, device='cuda'):\\n    model.to(device)\\n    since = time.time()\\n\\n    best_model_wts = copy.deepcopy(model.state_dict())\\n    best_acc = 0.0\\n\\n    for epoch in range(num_epochs):\\n        print('Epoch {}/{}'.format(epoch, num_epochs - 1))\\n        print('-' * 10)\\n\\n        # Each epoch has a training and validation phase\\n        for phase in ['train', 'valid']:\\n            if phase == 'train':\\n                scheduler.step()\\n                model.train()  # Set model to training mode\\n            else:\\n                model.eval()   # Set model to evaluate mode\\n\\n            running_loss = 0.0\\n            running_corrects = 0\\n\\n            # Iterate over data.\\n            for inputs, labels in dataloaders[phase]:\\n                inputs = inputs.to(device)\\n                labels = labels.to(device)\\n\\n                # zero the parameter gradients\\n                optimizer.zero_grad()\\n\\n                # forward\\n                # track history if only in train\\n                with torch.set_grad_enabled(phase == 'train'):\\n                    outputs = model(inputs)\\n                    _, preds = torch.max(outputs, 1)\\n                    loss = criterion(outputs, labels)\\n\\n                    # backward + optimize only if in training phase\\n                    if phase == 'train':\\n                        loss.backward()\\n                        optimizer.step()\\n\\n                # statistics\\n                running_loss += loss.item() * inputs.size(0)\\n                running_corrects += torch.sum(preds == labels.data)\\n\\n            epoch_loss = running_loss / dataset_sizes[phase]\\n            epoch_acc = running_corrects.double() / dataset_sizes[phase]\\n\\n            print('{} Loss: {:.4f} Acc: {:.4f}'.format(\\n                phase, epoch_loss, epoch_acc))\\n\\n            # deep copy the model\\n            if phase == 'valid' and epoch_acc > best_acc:\\n                best_acc = epoch_acc\\n                best_model_wts = copy.deepcopy(model.state_dict())\\n\\n        print()\\n\\n    time_elapsed = time.time() - since\\n    print('Training complete in {:.0f}m {:.0f}s'.format(\\n        time_elapsed // 60, time_elapsed % 60))\\n    print('Best val Acc: {:4f}'.format(best_acc))\\n\\n    # load best model weights\\n    model.load_state_dict(best_model_wts)\\n    return model\""
      ]
     },
     "execution_count": 13,
     "metadata": {},
     "output_type": "execute_result"
    }
   ],
   "source": [
    "'''def train_model(model, criteria, optimizer, scheduler,    \n",
    "                                      num_epochs=25, device='cuda'):\n",
    "    model.to(device)\n",
    "    since = time.time()\n",
    "\n",
    "    best_model_wts = copy.deepcopy(model.state_dict())\n",
    "    best_acc = 0.0\n",
    "\n",
    "    for epoch in range(num_epochs):\n",
    "        print('Epoch {}/{}'.format(epoch, num_epochs - 1))\n",
    "        print('-' * 10)\n",
    "\n",
    "        # Each epoch has a training and validation phase\n",
    "        for phase in ['train', 'valid']:\n",
    "            if phase == 'train':\n",
    "                scheduler.step()\n",
    "                model.train()  # Set model to training mode\n",
    "            else:\n",
    "                model.eval()   # Set model to evaluate mode\n",
    "\n",
    "            running_loss = 0.0\n",
    "            running_corrects = 0\n",
    "\n",
    "            # Iterate over data.\n",
    "            for inputs, labels in dataloaders[phase]:\n",
    "                inputs = inputs.to(device)\n",
    "                labels = labels.to(device)\n",
    "\n",
    "                # zero the parameter gradients\n",
    "                optimizer.zero_grad()\n",
    "\n",
    "                # forward\n",
    "                # track history if only in train\n",
    "                with torch.set_grad_enabled(phase == 'train'):\n",
    "                    outputs = model(inputs)\n",
    "                    _, preds = torch.max(outputs, 1)\n",
    "                    loss = criterion(outputs, labels)\n",
    "\n",
    "                    # backward + optimize only if in training phase\n",
    "                    if phase == 'train':\n",
    "                        loss.backward()\n",
    "                        optimizer.step()\n",
    "\n",
    "                # statistics\n",
    "                running_loss += loss.item() * inputs.size(0)\n",
    "                running_corrects += torch.sum(preds == labels.data)\n",
    "\n",
    "            epoch_loss = running_loss / dataset_sizes[phase]\n",
    "            epoch_acc = running_corrects.double() / dataset_sizes[phase]\n",
    "\n",
    "            print('{} Loss: {:.4f} Acc: {:.4f}'.format(\n",
    "                phase, epoch_loss, epoch_acc))\n",
    "\n",
    "            # deep copy the model\n",
    "            if phase == 'valid' and epoch_acc > best_acc:\n",
    "                best_acc = epoch_acc\n",
    "                best_model_wts = copy.deepcopy(model.state_dict())\n",
    "\n",
    "        print()\n",
    "\n",
    "    time_elapsed = time.time() - since\n",
    "    print('Training complete in {:.0f}m {:.0f}s'.format(\n",
    "        time_elapsed // 60, time_elapsed % 60))\n",
    "    print('Best val Acc: {:4f}'.format(best_acc))\n",
    "\n",
    "    # load best model weights\n",
    "    model.load_state_dict(best_model_wts)\n",
    "    return model'''"
   ]
  },
  {
   "cell_type": "code",
   "execution_count": 14,
   "metadata": {},
   "outputs": [],
   "source": [
    "#model=train_model(model, criterion, optimizer, scheduler,num_epochs=epochs, device='cuda')"
   ]
  },
  {
   "cell_type": "markdown",
   "metadata": {},
   "source": [
    "## Testing your network\n",
    "\n",
    "It's good practice to test your trained network on test data, images the network has never seen either in training or validation. This will give you a good estimate for the model's performance on completely new images. Run the test images through the network and measure the accuracy, the same way you did validation. You should be able to reach around 70% accuracy on the test set if the model has been trained well."
   ]
  },
  {
   "cell_type": "code",
   "execution_count": 15,
   "metadata": {},
   "outputs": [],
   "source": [
    "# TODO: Do validation on the test set\n",
    "\n",
    "def check_accuracy_on_test(testloader):    \n",
    "    correct = 0\n",
    "    total = 0\n",
    "#    model.to('cpu')\n",
    "    model.to('cuda')\n",
    "#    torch.set_default_tensor_type('torch.cuda.FloatTensor')\n",
    "    with torch.no_grad():\n",
    "        for data in testloader:\n",
    "            images, labels = data\n",
    "            outputs = model(images.cuda())\n",
    "            _, predicted = torch.max(outputs.data, 1)\n",
    "            total += labels.size(0)\n",
    "            correct += (predicted.cuda() == labels.cuda()).sum().item()\n",
    "\n",
    "    print('Accuracy of the network on the 10000 test images: %d %%' % (100 * correct / total))"
   ]
  },
  {
   "cell_type": "code",
   "execution_count": 16,
   "metadata": {},
   "outputs": [
    {
     "name": "stdout",
     "output_type": "stream",
     "text": [
      "Accuracy of the network on the 10000 test images: 87 %\n"
     ]
    }
   ],
   "source": [
    "check_accuracy_on_test(testloader)"
   ]
  },
  {
   "cell_type": "markdown",
   "metadata": {},
   "source": [
    "## Save the checkpoint\n",
    "\n",
    "Now that your network is trained, save the model so you can load it later for making predictions. You probably want to save other things such as the mapping of classes to indices which you get from one of the image datasets: `image_datasets['train'].class_to_idx`. You can attach this to the model as an attribute which makes inference easier later on.\n",
    "\n",
    "```model.class_to_idx = image_datasets['train'].class_to_idx```\n",
    "\n",
    "Remember that you'll want to completely rebuild the model later so you can use it for inference. Make sure to include any information you need in the checkpoint. If you want to load the model and keep training, you'll want to save the number of epochs as well as the optimizer state, `optimizer.state_dict`. You'll likely want to use this trained model in the next part of the project, so best to save it now."
   ]
  },
  {
   "cell_type": "code",
   "execution_count": 17,
   "metadata": {},
   "outputs": [],
   "source": [
    "# TODO: Save the checkpoint \n",
    "model.class_to_idx = train_datasets.class_to_idx\n",
    "\n",
    "checkpoint = {'classifier': model.classifier,\n",
    "              'state_dict': model.state_dict(),\n",
    "              'arch':'vgg16',\n",
    "              'class_to_idx': model.class_to_idx}\n",
    "\n",
    "torch.save(checkpoint, 'checkpoint.pth')"
   ]
  },
  {
   "cell_type": "code",
   "execution_count": 18,
   "metadata": {},
   "outputs": [
    {
     "name": "stdout",
     "output_type": "stream",
     "text": [
      "{'1': 0, '10': 1, '100': 2, '101': 3, '102': 4, '11': 5, '12': 6, '13': 7, '14': 8, '15': 9, '16': 10, '17': 11, '18': 12, '19': 13, '2': 14, '20': 15, '21': 16, '22': 17, '23': 18, '24': 19, '25': 20, '26': 21, '27': 22, '28': 23, '29': 24, '3': 25, '30': 26, '31': 27, '32': 28, '33': 29, '34': 30, '35': 31, '36': 32, '37': 33, '38': 34, '39': 35, '4': 36, '40': 37, '41': 38, '42': 39, '43': 40, '44': 41, '45': 42, '46': 43, '47': 44, '48': 45, '49': 46, '5': 47, '50': 48, '51': 49, '52': 50, '53': 51, '54': 52, '55': 53, '56': 54, '57': 55, '58': 56, '59': 57, '6': 58, '60': 59, '61': 60, '62': 61, '63': 62, '64': 63, '65': 64, '66': 65, '67': 66, '68': 67, '69': 68, '7': 69, '70': 70, '71': 71, '72': 72, '73': 73, '74': 74, '75': 75, '76': 76, '77': 77, '78': 78, '79': 79, '8': 80, '80': 81, '81': 82, '82': 83, '83': 84, '84': 85, '85': 86, '86': 87, '87': 88, '88': 89, '89': 90, '9': 91, '90': 92, '91': 93, '92': 94, '93': 95, '94': 96, '95': 97, '96': 98, '97': 99, '98': 100, '99': 101}\n"
     ]
    }
   ],
   "source": [
    "print(model.class_to_idx)"
   ]
  },
  {
   "cell_type": "markdown",
   "metadata": {},
   "source": [
    "## Loading the checkpoint\n",
    "\n",
    "At this point it's good to write a function that can load a checkpoint and rebuild the model. That way you can come back to this project and keep working on it without having to retrain the network."
   ]
  },
  {
   "cell_type": "code",
   "execution_count": 8,
   "metadata": {},
   "outputs": [
    {
     "name": "stdout",
     "output_type": "stream",
     "text": [
      "model class to idx is  {'1': 0, '10': 1, '100': 2, '101': 3, '102': 4, '11': 5, '12': 6, '13': 7, '14': 8, '15': 9, '16': 10, '17': 11, '18': 12, '19': 13, '2': 14, '20': 15, '21': 16, '22': 17, '23': 18, '24': 19, '25': 20, '26': 21, '27': 22, '28': 23, '29': 24, '3': 25, '30': 26, '31': 27, '32': 28, '33': 29, '34': 30, '35': 31, '36': 32, '37': 33, '38': 34, '39': 35, '4': 36, '40': 37, '41': 38, '42': 39, '43': 40, '44': 41, '45': 42, '46': 43, '47': 44, '48': 45, '49': 46, '5': 47, '50': 48, '51': 49, '52': 50, '53': 51, '54': 52, '55': 53, '56': 54, '57': 55, '58': 56, '59': 57, '6': 58, '60': 59, '61': 60, '62': 61, '63': 62, '64': 63, '65': 64, '66': 65, '67': 66, '68': 67, '69': 68, '7': 69, '70': 70, '71': 71, '72': 72, '73': 73, '74': 74, '75': 75, '76': 76, '77': 77, '78': 78, '79': 79, '8': 80, '80': 81, '81': 82, '82': 83, '83': 84, '84': 85, '85': 86, '86': 87, '87': 88, '88': 89, '89': 90, '9': 91, '90': 92, '91': 93, '92': 94, '93': 95, '94': 96, '95': 97, '96': 98, '97': 99, '98': 100, '99': 101}\n"
     ]
    }
   ],
   "source": [
    "# TODO: Write a function that loads a checkpoint and rebuilds the model\n",
    "def load_checkpoint(filepath):\n",
    "    checkpoint=torch.load(filepath)\n",
    "    model=choosemodel(checkpoint['arch'])\n",
    "    model.classifier = checkpoint['classifier']\n",
    "    model.load_state_dict(checkpoint['state_dict'])\n",
    "    model.class_to_idx = checkpoint['class_to_idx']\n",
    "    #newdict=checkpoint['cat_to_name_dict']\n",
    "    #return {'model':model,'newdict':newdict}\n",
    "    return model\n",
    "\n",
    "import torchvision.models as models\n",
    "def choosemodel(arch):\n",
    "    if arch=='restnet18':\n",
    "        return models.resnet18(pretrained=True)\n",
    "    elif arch=='alexnet':\n",
    "        return models.alexnet(pretrained=True)\n",
    "    elif arch == 'vgg16':\n",
    "        return models.vgg16(pretrained=True)\n",
    "    elif arch == 'squeezenet':\n",
    "        return models.squeezenet1_0(pretrained=True)\n",
    "    elif arch == 'densenet':\n",
    "        return models.densenet161(pretrained=True)\n",
    "    elif arch == 'inception':\n",
    "        return models.inception_v3(pretrained=True)\n",
    "    else:\n",
    "        return models.vgg16(pretrained=True)\n",
    "\n",
    "\n",
    "\n",
    "#### load model and newdict\n",
    "model = load_checkpoint('checkpoint.pth')#['model','newdict']\n",
    "print('model class to idx is ',model.class_to_idx)"
   ]
  },
  {
   "cell_type": "code",
   "execution_count": 9,
   "metadata": {},
   "outputs": [
    {
     "data": {
      "text/plain": [
       "VGG(\n",
       "  (features): Sequential(\n",
       "    (0): Conv2d(3, 64, kernel_size=(3, 3), stride=(1, 1), padding=(1, 1))\n",
       "    (1): ReLU(inplace)\n",
       "    (2): Conv2d(64, 64, kernel_size=(3, 3), stride=(1, 1), padding=(1, 1))\n",
       "    (3): ReLU(inplace)\n",
       "    (4): MaxPool2d(kernel_size=2, stride=2, padding=0, dilation=1, ceil_mode=False)\n",
       "    (5): Conv2d(64, 128, kernel_size=(3, 3), stride=(1, 1), padding=(1, 1))\n",
       "    (6): ReLU(inplace)\n",
       "    (7): Conv2d(128, 128, kernel_size=(3, 3), stride=(1, 1), padding=(1, 1))\n",
       "    (8): ReLU(inplace)\n",
       "    (9): MaxPool2d(kernel_size=2, stride=2, padding=0, dilation=1, ceil_mode=False)\n",
       "    (10): Conv2d(128, 256, kernel_size=(3, 3), stride=(1, 1), padding=(1, 1))\n",
       "    (11): ReLU(inplace)\n",
       "    (12): Conv2d(256, 256, kernel_size=(3, 3), stride=(1, 1), padding=(1, 1))\n",
       "    (13): ReLU(inplace)\n",
       "    (14): Conv2d(256, 256, kernel_size=(3, 3), stride=(1, 1), padding=(1, 1))\n",
       "    (15): ReLU(inplace)\n",
       "    (16): MaxPool2d(kernel_size=2, stride=2, padding=0, dilation=1, ceil_mode=False)\n",
       "    (17): Conv2d(256, 512, kernel_size=(3, 3), stride=(1, 1), padding=(1, 1))\n",
       "    (18): ReLU(inplace)\n",
       "    (19): Conv2d(512, 512, kernel_size=(3, 3), stride=(1, 1), padding=(1, 1))\n",
       "    (20): ReLU(inplace)\n",
       "    (21): Conv2d(512, 512, kernel_size=(3, 3), stride=(1, 1), padding=(1, 1))\n",
       "    (22): ReLU(inplace)\n",
       "    (23): MaxPool2d(kernel_size=2, stride=2, padding=0, dilation=1, ceil_mode=False)\n",
       "    (24): Conv2d(512, 512, kernel_size=(3, 3), stride=(1, 1), padding=(1, 1))\n",
       "    (25): ReLU(inplace)\n",
       "    (26): Conv2d(512, 512, kernel_size=(3, 3), stride=(1, 1), padding=(1, 1))\n",
       "    (27): ReLU(inplace)\n",
       "    (28): Conv2d(512, 512, kernel_size=(3, 3), stride=(1, 1), padding=(1, 1))\n",
       "    (29): ReLU(inplace)\n",
       "    (30): MaxPool2d(kernel_size=2, stride=2, padding=0, dilation=1, ceil_mode=False)\n",
       "  )\n",
       "  (classifier): Sequential(\n",
       "    (fc1): Linear(in_features=25088, out_features=4096, bias=True)\n",
       "    (relu1): ReLU()\n",
       "    (drop1): Dropout(p=0.1)\n",
       "    (fc2): Linear(in_features=4096, out_features=1024, bias=True)\n",
       "    (drop2): Dropout(p=0.1)\n",
       "    (fc3): Linear(in_features=1024, out_features=256, bias=True)\n",
       "    (drop3): Dropout(p=0.1)\n",
       "    (fc4): Linear(in_features=256, out_features=102, bias=True)\n",
       "    (output): LogSoftmax()\n",
       "  )\n",
       ")"
      ]
     },
     "execution_count": 9,
     "metadata": {},
     "output_type": "execute_result"
    }
   ],
   "source": [
    "'''state_dict = torch.load('checkpoint.pth')['state_dict']\n",
    "#print(state_dict.keys())\n",
    "model = torchvision.models.vgg16(pretrained=True)\n",
    "# Freeze parameters so we don't backprop through them\n",
    "for param in model.parameters():\n",
    "    param.requires_grad = False\n",
    "\n",
    "\n",
    "\n",
    "model.classifier = torch.load('checkpoint.pth')['classifier']\n",
    "model.load_state_dict(state_dict)\n",
    "print(model)'''\n",
    "model"
   ]
  },
  {
   "cell_type": "markdown",
   "metadata": {},
   "source": [
    "# Inference for classification\n",
    "\n",
    "Now you'll write a function to use a trained network for inference. That is, you'll pass an image into the network and predict the class of the flower in the image. Write a function called `predict` that takes an image and a model, then returns the top $K$ most likely classes along with the probabilities. It should look like \n",
    "\n",
    "```python\n",
    "probs, classes = predict(image_path, model)\n",
    "print(probs)\n",
    "print(classes)\n",
    "> [ 0.01558163  0.01541934  0.01452626  0.01443549  0.01407339]\n",
    "> ['70', '3', '45', '62', '55']\n",
    "```\n",
    "\n",
    "First you'll need to handle processing the input image such that it can be used in your network. \n",
    "\n",
    "## Image Preprocessing\n",
    "\n",
    "You'll want to use `PIL` to load the image ([documentation](https://pillow.readthedocs.io/en/latest/reference/Image.html)). It's best to write a function that preprocesses the image so it can be used as input for the model. This function should process the images in the same manner used for training. \n",
    "\n",
    "First, resize the images where the shortest side is 256 pixels, keeping the aspect ratio. This can be done with the [`thumbnail`](http://pillow.readthedocs.io/en/3.1.x/reference/Image.html#PIL.Image.Image.thumbnail) or [`resize`](http://pillow.readthedocs.io/en/3.1.x/reference/Image.html#PIL.Image.Image.thumbnail) methods. Then you'll need to crop out the center 224x224 portion of the image.\n",
    "\n",
    "Color channels of images are typically encoded as integers 0-255, but the model expected floats 0-1. You'll need to convert the values. It's easiest with a Numpy array, which you can get from a PIL image like so `np_image = np.array(pil_image)`.\n",
    "\n",
    "As before, the network expects the images to be normalized in a specific way. For the means, it's `[0.485, 0.456, 0.406]` and for the standard deviations `[0.229, 0.224, 0.225]`. You'll want to subtract the means from each color channel, then divide by the standard deviation. \n",
    "\n",
    "And finally, PyTorch expects the color channel to be the first dimension but it's the third dimension in the PIL image and Numpy array. You can reorder dimensions using [`ndarray.transpose`](https://docs.scipy.org/doc/numpy-1.13.0/reference/generated/numpy.ndarray.transpose.html). The color channel needs to be first and retain the order of the other two dimensions."
   ]
  },
  {
   "cell_type": "code",
   "execution_count": 10,
   "metadata": {},
   "outputs": [],
   "source": [
    "def process_image(image):\n",
    "    ''' Scales, crops, and normalizes a PIL image for a PyTorch model,\n",
    "        returns an Numpy array\n",
    "    '''\n",
    "\n",
    "    size=(256,256)\n",
    "    pilim=ImageOps.fit(image, size, Image.ANTIALIAS)\n",
    "    width, height = pilim.size   # Get dimensions\n",
    "    new_width=224\n",
    "    new_height=224\n",
    "    left = (width - new_width)/2\n",
    "    top = (height - new_height)/2\n",
    "    right = (width + new_width)/2\n",
    "    bottom = (height + new_height)/2\n",
    "    croppedIm=pilim.crop((left, top, right, bottom))\n",
    "    numpyim= np.array(croppedIm)/255\n",
    "    \n",
    "    mean = numpyim.mean(axis=(0,1))\n",
    "    std= numpyim.std(axis=(0,1))\n",
    "    nmean = np.array([0.485, 0.456, 0.406])\n",
    "    nstd = np.array([0.229, 0.224, 0.225])\n",
    "    #numpyim = ((numpyim - mean)/std)*nstd+nmean\n",
    "    numpyim = (numpyim - mean)/std\n",
    "\n",
    "    return numpyim.transpose((2,0,1))\n",
    "    # TODO: Process a PIL image for use in a PyTorch model"
   ]
  },
  {
   "cell_type": "markdown",
   "metadata": {},
   "source": [
    "To check your work, the function below converts a PyTorch tensor and displays it in the notebook. If your `process_image` function works, running the output through this function should return the original image (except for the cropped out portions)."
   ]
  },
  {
   "cell_type": "code",
   "execution_count": 11,
   "metadata": {},
   "outputs": [],
   "source": [
    "def imshow(image,df, ax=None, title=None):\n",
    "    if ax is None:\n",
    "        a4_dims = (4.5, 8.27)\n",
    "        fig, (ax,ax1) = plt.subplots(2,1,figsize=a4_dims)\n",
    "        #ax1 = plt.subplots(1,2)\n",
    "    #else:\n",
    "        #fig, axs = plt.subplots(1,2)\n",
    "        #ax1=sb.barplot(data=df,x='category',y='probability')\n",
    "    # PyTorch tensors assume the color channel is the first dimension\n",
    "    # but matplotlib assumes is the third dimension\n",
    "    image = image.transpose((1, 2, 0))\n",
    "    \n",
    "    \n",
    "    # Undo preprocessing\n",
    "    mean = np.array([0.485, 0.456, 0.406])\n",
    "    std = np.array([0.229, 0.224, 0.225])\n",
    "    image = std * image + mean\n",
    "    \n",
    "    # Image needs to be clipped between 0 and 1 or it looks like noise when displayed\n",
    "    image = np.clip(image, 0, 1)\n",
    "    \n",
    "    ax.imshow(image)\n",
    "    #sb.set(rc={'figure.figsize':(11.7,8.27)})\n",
    "    sb.barplot(data=df,y='category',x='probability',ax=ax1)\n",
    "    #print(resultdic)\n",
    "    ax.axes.get_xaxis().set_visible(False)\n",
    "    ax.axes.get_yaxis().set_visible(False)\n",
    "    ax.set_title(df['category'].iloc[0])\n",
    "    return ax"
   ]
  },
  {
   "cell_type": "markdown",
   "metadata": {},
   "source": [
    "## Class Prediction\n",
    "\n",
    "Once you can get images in the correct format, it's time to write a function for making predictions with your model. A common practice is to predict the top 5 or so (usually called top-$K$) most probable classes. You'll want to calculate the class probabilities then find the $K$ largest values.\n",
    "\n",
    "To get the top $K$ largest values in a tensor use [`x.topk(k)`](http://pytorch.org/docs/master/torch.html#torch.topk). This method returns both the highest `k` probabilities and the indices of those probabilities corresponding to the classes. You need to convert from these indices to the actual class labels using `class_to_idx` which hopefully you added to the model or from an `ImageFolder` you used to load the data ([see here](#Save-the-checkpoint)). Make sure to invert the dictionary so you get a mapping from index to class as well.\n",
    "\n",
    "Again, this method should take a path to an image and a model checkpoint, then return the probabilities and classes.\n",
    "\n",
    "```python\n",
    "probs, classes = predict(image_path, model)\n",
    "print(probs)\n",
    "print(classes)\n",
    "> [ 0.01558163  0.01541934  0.01452626  0.01443549  0.01407339]\n",
    "> ['70', '3', '45', '62', '55']\n",
    "```"
   ]
  },
  {
   "cell_type": "code",
   "execution_count": 25,
   "metadata": {},
   "outputs": [],
   "source": [
    "def predict(image_path, model, topk=5):\n",
    "    ''' Predict the class (or classes) of an image using a trained deep learning model.\n",
    "    '''\n",
    "    '''\n",
    "    data_transforms = transforms.Compose([transforms.RandomRotation(30),\n",
    "                                       transforms.RandomResizedCrop(244),\n",
    "                                       transforms.RandomHorizontalFlip(),\n",
    "                                       transforms.ToTensor(),\n",
    "                                       transforms.Normalize([0.5, 0.5, 0.5], \n",
    "                                                            [0.5,0.5,0.5])])\n",
    "    image_datasets = datasets.ImageFolder(image_path, transform=data_transforms)\n",
    "    '''\n",
    "    im=Image.open(image_path)\n",
    "    im=process_image(im)\n",
    "    #image=Image.open(image_path, mode='r')\n",
    "    #print(image)\n",
    "    \n",
    "    #image=process_image(image_datasets)\n",
    "    imagetensor=torch.from_numpy(im).float()\n",
    "    #print(imagetensor.shape)\n",
    "    \n",
    "    # Add the extra select dimension for unsqueezing\n",
    "    unsqueezedtensor=imagetensor.unsqueeze_(0)\n",
    "    print(unsqueezedtensor.shape)\n",
    "    #get output\n",
    "    model.to('cuda')\n",
    "    try:\n",
    "        output=model(unsqueezedtensor.cuda())\n",
    "    except:\n",
    "        output=model(unsqueezedtensor)\n",
    "    # TODO: Implement the code to predict the class from an image file\n",
    "    idx_to_class = {val: key for key, val in model.class_to_idx.items()}\n",
    "    probability_output,categorynumber=torch.topk(output.data,5,1)\n",
    "    probability=torch.exp(probability_output)\n",
    "    resultdic={'category':[],'probability':[]}\n",
    "    for i,j in zip(categorynumber[0],probability[0]):\n",
    "        category_id=int(idx_to_class[i.item()])\n",
    "        resultdic['category'].append(newdict[category_id])\n",
    "        resultdic['probability'].append(j.item())\n",
    "    df=pd.DataFrame(resultdic)\n",
    "    imshow(im,df)\n",
    "    resultdic['probs'] = df.pop('probability')\n",
    "    resultdic['classes'] = df.pop('category')\n",
    "    return resultdic"
   ]
  },
  {
   "cell_type": "markdown",
   "metadata": {},
   "source": [
    "## Sanity Checking\n",
    "\n",
    "Now that you can use a trained model for predictions, check to make sure it makes sense. Even if the testing accuracy is high, it's always good to check that there aren't obvious bugs. Use `matplotlib` to plot the probabilities for the top 5 classes as a bar graph, along with the input image. It should look like this:\n",
    "\n",
    "<img src='assets/inference_example.png' width=300px>\n",
    "\n",
    "You can convert from the class integer encoding to actual flower names with the `cat_to_name.json` file (should have been loaded earlier in the notebook). To show a PyTorch tensor as an image, use the `imshow` function defined above."
   ]
  },
  {
   "cell_type": "code",
   "execution_count": 26,
   "metadata": {},
   "outputs": [],
   "source": [
    "# TODO: Display an image along with the top 5 classes"
   ]
  },
  {
   "cell_type": "code",
   "execution_count": 27,
   "metadata": {},
   "outputs": [],
   "source": [
    "def display(image_path, model, topk=5):\n",
    "    result=predict(image_path,model,topk)\n",
    "    print(result)\n",
    "\n",
    "    \n",
    "#print(newdict[categorynumber.numpy()[0]],probability.numpy()[0])\n",
    "#print(newdict[categorynumber.item()],probability.item())"
   ]
  },
  {
   "cell_type": "code",
   "execution_count": 28,
   "metadata": {},
   "outputs": [
    {
     "name": "stdout",
     "output_type": "stream",
     "text": [
      "torch.Size([1, 3, 224, 224])\n",
      "{'category': ['pink primrose', 'tree mallow', 'spring crocus', 'balloon flower', 'bird of paradise'], 'probability': [0.8647893071174622, 0.11188285797834396, 0.013975071720778942, 0.004719229880720377, 0.002538240747526288], 'probs': 0    0.864789\n",
      "1    0.111883\n",
      "2    0.013975\n",
      "3    0.004719\n",
      "4    0.002538\n",
      "Name: probability, dtype: float64, 'classes': 0       pink primrose\n",
      "1         tree mallow\n",
      "2       spring crocus\n",
      "3      balloon flower\n",
      "4    bird of paradise\n",
      "Name: category, dtype: object}\n"
     ]
    },
    {
     "data": {
      "image/png": "[encoded data removed]",
      "text/plain": [
       "<matplotlib.figure.Figure at 0x7fb25fbea3c8>"
      ]
     },
     "metadata": {
      "needs_background": "light"
     },
     "output_type": "display_data"
    }
   ],
   "source": [
    "display('flowers/valid/1/image_06739.jpg',model)\n",
    "\n",
    "\n"
   ]
  },
  {
   "cell_type": "code",
   "execution_count": 24,
   "metadata": {},
   "outputs": [
    {
     "data": {
      "text/plain": [
       "'pink primrose'"
      ]
     },
     "execution_count": 24,
     "metadata": {},
     "output_type": "execute_result"
    }
   ],
   "source": [
    "newdict[1]"
   ]
  },
  {
   "cell_type": "code",
   "execution_count": null,
   "metadata": {},
   "outputs": [],
   "source": []
  },
  {
   "cell_type": "code",
   "execution_count": null,
   "metadata": {},
   "outputs": [],
   "source": []
  }
 ],
 "metadata": {
  "kernelspec": {
   "display_name": "Python 3",
   "language": "python",
   "name": "python3"
  },
  "language_info": {
   "codemirror_mode": {
    "name": "ipython",
    "version": 3
   },
   "file_extension": ".py",
   "mimetype": "text/x-python",
   "name": "python",
   "nbconvert_exporter": "python",
   "pygments_lexer": "ipython3",
   "version": "3.6.3"
  }
 },
 "nbformat": 4,
 "nbformat_minor": 2
}
